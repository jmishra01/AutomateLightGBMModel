{
  "nbformat": 4,
  "nbformat_minor": 0,
  "metadata": {
    "colab": {
      "provenance": [],
      "authorship_tag": "ABX9TyMJh1NFItSwd5Sd6Xcvt4Ju",
      "include_colab_link": true
    },
    "kernelspec": {
      "name": "python3",
      "display_name": "Python 3"
    },
    "language_info": {
      "name": "python"
    }
  },
  "cells": [
    {
      "cell_type": "markdown",
      "metadata": {
        "id": "view-in-github",
        "colab_type": "text"
      },
      "source": [
        "<a href=\"https://colab.research.google.com/github/jmishra01/AutomateLightGBMModel/blob/main/Assignment1.ipynb\" target=\"_parent\"><img src=\"https://colab.research.google.com/assets/colab-badge.svg\" alt=\"Open In Colab\"/></a>"
      ]
    },
    {
      "cell_type": "markdown",
      "source": [
        "Download dataset from Kaggle into Colab"
      ],
      "metadata": {
        "id": "vMss6sn49_31"
      }
    },
    {
      "cell_type": "code",
      "execution_count": null,
      "metadata": {
        "id": "7RIcUjb-94uI"
      },
      "outputs": [],
      "source": [
        "!pip install -q kaggle"
      ]
    },
    {
      "cell_type": "code",
      "source": [
        "from google.colab import files"
      ],
      "metadata": {
        "id": "rSLCpbXR985n"
      },
      "execution_count": null,
      "outputs": []
    },
    {
      "cell_type": "code",
      "source": [
        "!mkdir ~/.kaggle"
      ],
      "metadata": {
        "id": "-bnYayDo-JfD"
      },
      "execution_count": null,
      "outputs": []
    },
    {
      "cell_type": "code",
      "source": [
        "files.upload()"
      ],
      "metadata": {
        "id": "_KRvyvFC_lBo"
      },
      "execution_count": null,
      "outputs": []
    },
    {
      "cell_type": "code",
      "source": [
        "!cp kaggle.json ~/.kaggle/"
      ],
      "metadata": {
        "id": "YCJhfZ4s-ZWX"
      },
      "execution_count": null,
      "outputs": []
    },
    {
      "cell_type": "code",
      "source": [
        "!chmod 600 ~/.kaggle/kaggle.json"
      ],
      "metadata": {
        "id": "WsvO6bAf-dEN"
      },
      "execution_count": null,
      "outputs": []
    },
    {
      "cell_type": "code",
      "source": [
        "!kaggle datasets download -d paultimothymooney/stock-market-data"
      ],
      "metadata": {
        "colab": {
          "base_uri": "https://localhost:8080/"
        },
        "id": "9mc7ZClB-iXk",
        "outputId": "b5f65ede-146f-4023-ec17-658a508f1408"
      },
      "execution_count": null,
      "outputs": [
        {
          "output_type": "stream",
          "name": "stdout",
          "text": [
            "Downloading stock-market-data.zip to /content\n",
            " 99% 1.02G/1.03G [00:07<00:00, 164MB/s]\n",
            "100% 1.03G/1.03G [00:07<00:00, 144MB/s]\n"
          ]
        }
      ]
    },
    {
      "cell_type": "code",
      "source": [
        "!unzip stock-market-data.zip"
      ],
      "metadata": {
        "colab": {
          "base_uri": "https://localhost:8080/"
        },
        "id": "FOe-J5Qb-uW6",
        "outputId": "f365cd90-2c69-48e8-ec51-453d7cb59b32"
      },
      "execution_count": null,
      "outputs": [
        {
          "output_type": "stream",
          "name": "stdout",
          "text": [
            "Archive:  stock-market-data.zip\n",
            "replace stock_market_data/forbes2000/csv/A.csv? [y]es, [n]o, [A]ll, [N]one, [r]ename: "
          ]
        }
      ]
    },
    {
      "cell_type": "code",
      "source": [
        "!ls "
      ],
      "metadata": {
        "colab": {
          "base_uri": "https://localhost:8080/"
        },
        "id": "tu2fYaaZ_baf",
        "outputId": "4174e287-a5ac-4584-b94a-3703ddced1ff"
      },
      "execution_count": null,
      "outputs": [
        {
          "output_type": "stream",
          "name": "stdout",
          "text": [
            "kaggle.json  sample_data  stock_market_data  stock-market-data.zip\n"
          ]
        }
      ]
    },
    {
      "cell_type": "code",
      "source": [
        "!cd stock_market_data"
      ],
      "metadata": {
        "id": "y3OBN-B-B08a"
      },
      "execution_count": null,
      "outputs": []
    },
    {
      "cell_type": "code",
      "source": [
        "!apt install tree"
      ],
      "metadata": {
        "colab": {
          "base_uri": "https://localhost:8080/"
        },
        "id": "n7Xjji76CJRd",
        "outputId": "b9fb822e-a6be-457d-e937-f574a25d977c"
      },
      "execution_count": null,
      "outputs": [
        {
          "output_type": "stream",
          "name": "stdout",
          "text": [
            "Reading package lists... Done\n",
            "Building dependency tree       \n",
            "Reading state information... Done\n",
            "The following package was automatically installed and is no longer required:\n",
            "  libnvidia-common-460\n",
            "Use 'apt autoremove' to remove it.\n",
            "The following NEW packages will be installed:\n",
            "  tree\n",
            "0 upgraded, 1 newly installed, 0 to remove and 20 not upgraded.\n",
            "Need to get 40.7 kB of archives.\n",
            "After this operation, 105 kB of additional disk space will be used.\n",
            "Get:1 http://archive.ubuntu.com/ubuntu bionic/universe amd64 tree amd64 1.7.0-5 [40.7 kB]\n",
            "Fetched 40.7 kB in 0s (113 kB/s)\n",
            "Selecting previously unselected package tree.\n",
            "(Reading database ... 159447 files and directories currently installed.)\n",
            "Preparing to unpack .../tree_1.7.0-5_amd64.deb ...\n",
            "Unpacking tree (1.7.0-5) ...\n",
            "Setting up tree (1.7.0-5) ...\n",
            "Processing triggers for man-db (2.8.3-2ubuntu0.1) ...\n"
          ]
        }
      ]
    },
    {
      "cell_type": "code",
      "source": [
        "!ls stock_market_data/forbes2000/csv/ | head"
      ],
      "metadata": {
        "colab": {
          "base_uri": "https://localhost:8080/"
        },
        "id": "Tsgb-iK5CwQ6",
        "outputId": "93660985-7572-4f79-a3ca-f129e9c534e5"
      },
      "execution_count": null,
      "outputs": [
        {
          "output_type": "stream",
          "name": "stdout",
          "text": [
            "AAALY.csv\n",
            "AACAY.csv\n",
            "AAL.csv\n",
            "AAP.csv\n",
            "AAPL.csv\n",
            "ABBV.csv\n",
            "ABC.csv\n",
            "ABLT.csv\n",
            "ABT.csv\n",
            "ABTZY.csv\n"
          ]
        }
      ]
    },
    {
      "cell_type": "code",
      "source": [
        "!tree -d"
      ],
      "metadata": {
        "colab": {
          "base_uri": "https://localhost:8080/"
        },
        "id": "Ku6JSLKbB6Ah",
        "outputId": "b8722a6f-88c4-4db3-e148-78923b51484b"
      },
      "execution_count": null,
      "outputs": [
        {
          "output_type": "stream",
          "name": "stdout",
          "text": [
            ".\n",
            "├── sample_data\n",
            "└── stock_market_data\n",
            "    ├── forbes2000\n",
            "    │   ├── csv\n",
            "    │   └── json\n",
            "    ├── nasdaq\n",
            "    │   ├── csv\n",
            "    │   └── json\n",
            "    ├── nyse\n",
            "    │   ├── csv\n",
            "    │   └── json\n",
            "    └── sp500\n",
            "        ├── csv\n",
            "        └── json\n",
            "\n",
            "14 directories\n"
          ]
        }
      ]
    },
    {
      "cell_type": "code",
      "source": [
        "!pip install git+https://github.com/DynamicsAndNeuralSystems/pycatch22.git"
      ],
      "metadata": {
        "colab": {
          "base_uri": "https://localhost:8080/"
        },
        "id": "ytVTUjFHDmpM",
        "outputId": "6d47e1ef-a338-4453-cb82-a0876cefec96"
      },
      "execution_count": null,
      "outputs": [
        {
          "output_type": "stream",
          "name": "stdout",
          "text": [
            "Looking in indexes: https://pypi.org/simple, https://us-python.pkg.dev/colab-wheels/public/simple/\n",
            "Collecting git+https://github.com/DynamicsAndNeuralSystems/pycatch22.git\n",
            "  Cloning https://github.com/DynamicsAndNeuralSystems/pycatch22.git to /tmp/pip-req-build-cz21yidd\n",
            "  Running command git clone -q https://github.com/DynamicsAndNeuralSystems/pycatch22.git /tmp/pip-req-build-cz21yidd\n",
            "  Installing build dependencies ... \u001b[?25l\u001b[?25hdone\n",
            "  Getting requirements to build wheel ... \u001b[?25l\u001b[?25hdone\n",
            "  Installing backend dependencies ... \u001b[?25l\u001b[?25hdone\n",
            "    Preparing wheel metadata ... \u001b[?25l\u001b[?25hdone\n",
            "Building wheels for collected packages: UNKNOWN\n",
            "  Building wheel for UNKNOWN (PEP 517) ... \u001b[?25l\u001b[?25hdone\n",
            "  Created wheel for UNKNOWN: filename=UNKNOWN-0.0.0-cp37-cp37m-linux_x86_64.whl size=105346 sha256=f4419b166c09095252417dcf49478fb369e527d867f1b12f73aaf4c3b020c86d\n",
            "  Stored in directory: /tmp/pip-ephem-wheel-cache-y0zmz0tg/wheels/26/91/41/35eeff61307b4f088746c582a99c4e0f2cf9a19471326bf561\n",
            "Successfully built UNKNOWN\n",
            "Installing collected packages: UNKNOWN\n",
            "Successfully installed UNKNOWN-0.0.0\n"
          ]
        }
      ]
    },
    {
      "cell_type": "code",
      "source": [
        "import os"
      ],
      "metadata": {
        "id": "ZM_xflQ0HC9H"
      },
      "execution_count": null,
      "outputs": []
    },
    {
      "cell_type": "code",
      "source": [
        "import pandas as pd"
      ],
      "metadata": {
        "id": "b8mpD3UEB7NY"
      },
      "execution_count": null,
      "outputs": []
    },
    {
      "cell_type": "code",
      "source": [
        "import pycatch22"
      ],
      "metadata": {
        "id": "5yyQvM0AGeu3"
      },
      "execution_count": null,
      "outputs": []
    },
    {
      "cell_type": "code",
      "source": [
        "from pathlib import Path"
      ],
      "metadata": {
        "id": "O2vbFKRqG6jN"
      },
      "execution_count": null,
      "outputs": []
    },
    {
      "cell_type": "code",
      "source": [],
      "metadata": {
        "id": "86aupBfSG9Wo"
      },
      "execution_count": null,
      "outputs": []
    },
    {
      "cell_type": "code",
      "source": [
        "df = pd.read_csv(\"./stock_market_data/forbes2000/csv/AAALY.csv\")"
      ],
      "metadata": {
        "id": "8T3rI5LpCk72"
      },
      "execution_count": null,
      "outputs": []
    },
    {
      "cell_type": "code",
      "source": [
        "df"
      ],
      "metadata": {
        "colab": {
          "base_uri": "https://localhost:8080/",
          "height": 424
        },
        "id": "9lY5V-GNC5jf",
        "outputId": "4c2e0fac-c307-49fb-8fe2-4d642a5dc9ae"
      },
      "execution_count": null,
      "outputs": [
        {
          "output_type": "execute_result",
          "data": {
            "text/plain": [
              "            Date        Low       Open  Volume       High      Close  \\\n",
              "0     15-03-2013  23.290001  23.290001     100  23.290001  23.290001   \n",
              "1     18-03-2013  23.290001  23.290001       0  23.290001  23.290001   \n",
              "2     19-03-2013  23.290001  23.290001       0  23.290001  23.290001   \n",
              "3     20-03-2013  23.290001  23.290001       0  23.290001  23.290001   \n",
              "4     21-03-2013  23.290001  23.290001       0  23.290001  23.290001   \n",
              "...          ...        ...        ...     ...        ...        ...   \n",
              "2376  22-08-2022  35.299999  35.299999       0  35.299999  35.299999   \n",
              "2377  23-08-2022  35.299999  35.299999       0  35.299999  35.299999   \n",
              "2378  24-08-2022  35.299999  35.299999       0  35.299999  35.299999   \n",
              "2379  25-08-2022  35.299999  35.299999       0  35.299999  35.299999   \n",
              "2380  26-08-2022  35.299999  35.299999       0  35.299999  35.299999   \n",
              "\n",
              "      Adjusted Close  \n",
              "0          16.989510  \n",
              "1          16.989510  \n",
              "2          16.989510  \n",
              "3          16.989510  \n",
              "4          16.989510  \n",
              "...              ...  \n",
              "2376       35.299999  \n",
              "2377       35.299999  \n",
              "2378       35.299999  \n",
              "2379       35.299999  \n",
              "2380       35.299999  \n",
              "\n",
              "[2381 rows x 7 columns]"
            ],
            "text/html": [
              "\n",
              "  <div id=\"df-f200f7ae-a1fe-410d-9fee-6cdef8bc8f26\">\n",
              "    <div class=\"colab-df-container\">\n",
              "      <div>\n",
              "<style scoped>\n",
              "    .dataframe tbody tr th:only-of-type {\n",
              "        vertical-align: middle;\n",
              "    }\n",
              "\n",
              "    .dataframe tbody tr th {\n",
              "        vertical-align: top;\n",
              "    }\n",
              "\n",
              "    .dataframe thead th {\n",
              "        text-align: right;\n",
              "    }\n",
              "</style>\n",
              "<table border=\"1\" class=\"dataframe\">\n",
              "  <thead>\n",
              "    <tr style=\"text-align: right;\">\n",
              "      <th></th>\n",
              "      <th>Date</th>\n",
              "      <th>Low</th>\n",
              "      <th>Open</th>\n",
              "      <th>Volume</th>\n",
              "      <th>High</th>\n",
              "      <th>Close</th>\n",
              "      <th>Adjusted Close</th>\n",
              "    </tr>\n",
              "  </thead>\n",
              "  <tbody>\n",
              "    <tr>\n",
              "      <th>0</th>\n",
              "      <td>15-03-2013</td>\n",
              "      <td>23.290001</td>\n",
              "      <td>23.290001</td>\n",
              "      <td>100</td>\n",
              "      <td>23.290001</td>\n",
              "      <td>23.290001</td>\n",
              "      <td>16.989510</td>\n",
              "    </tr>\n",
              "    <tr>\n",
              "      <th>1</th>\n",
              "      <td>18-03-2013</td>\n",
              "      <td>23.290001</td>\n",
              "      <td>23.290001</td>\n",
              "      <td>0</td>\n",
              "      <td>23.290001</td>\n",
              "      <td>23.290001</td>\n",
              "      <td>16.989510</td>\n",
              "    </tr>\n",
              "    <tr>\n",
              "      <th>2</th>\n",
              "      <td>19-03-2013</td>\n",
              "      <td>23.290001</td>\n",
              "      <td>23.290001</td>\n",
              "      <td>0</td>\n",
              "      <td>23.290001</td>\n",
              "      <td>23.290001</td>\n",
              "      <td>16.989510</td>\n",
              "    </tr>\n",
              "    <tr>\n",
              "      <th>3</th>\n",
              "      <td>20-03-2013</td>\n",
              "      <td>23.290001</td>\n",
              "      <td>23.290001</td>\n",
              "      <td>0</td>\n",
              "      <td>23.290001</td>\n",
              "      <td>23.290001</td>\n",
              "      <td>16.989510</td>\n",
              "    </tr>\n",
              "    <tr>\n",
              "      <th>4</th>\n",
              "      <td>21-03-2013</td>\n",
              "      <td>23.290001</td>\n",
              "      <td>23.290001</td>\n",
              "      <td>0</td>\n",
              "      <td>23.290001</td>\n",
              "      <td>23.290001</td>\n",
              "      <td>16.989510</td>\n",
              "    </tr>\n",
              "    <tr>\n",
              "      <th>...</th>\n",
              "      <td>...</td>\n",
              "      <td>...</td>\n",
              "      <td>...</td>\n",
              "      <td>...</td>\n",
              "      <td>...</td>\n",
              "      <td>...</td>\n",
              "      <td>...</td>\n",
              "    </tr>\n",
              "    <tr>\n",
              "      <th>2376</th>\n",
              "      <td>22-08-2022</td>\n",
              "      <td>35.299999</td>\n",
              "      <td>35.299999</td>\n",
              "      <td>0</td>\n",
              "      <td>35.299999</td>\n",
              "      <td>35.299999</td>\n",
              "      <td>35.299999</td>\n",
              "    </tr>\n",
              "    <tr>\n",
              "      <th>2377</th>\n",
              "      <td>23-08-2022</td>\n",
              "      <td>35.299999</td>\n",
              "      <td>35.299999</td>\n",
              "      <td>0</td>\n",
              "      <td>35.299999</td>\n",
              "      <td>35.299999</td>\n",
              "      <td>35.299999</td>\n",
              "    </tr>\n",
              "    <tr>\n",
              "      <th>2378</th>\n",
              "      <td>24-08-2022</td>\n",
              "      <td>35.299999</td>\n",
              "      <td>35.299999</td>\n",
              "      <td>0</td>\n",
              "      <td>35.299999</td>\n",
              "      <td>35.299999</td>\n",
              "      <td>35.299999</td>\n",
              "    </tr>\n",
              "    <tr>\n",
              "      <th>2379</th>\n",
              "      <td>25-08-2022</td>\n",
              "      <td>35.299999</td>\n",
              "      <td>35.299999</td>\n",
              "      <td>0</td>\n",
              "      <td>35.299999</td>\n",
              "      <td>35.299999</td>\n",
              "      <td>35.299999</td>\n",
              "    </tr>\n",
              "    <tr>\n",
              "      <th>2380</th>\n",
              "      <td>26-08-2022</td>\n",
              "      <td>35.299999</td>\n",
              "      <td>35.299999</td>\n",
              "      <td>0</td>\n",
              "      <td>35.299999</td>\n",
              "      <td>35.299999</td>\n",
              "      <td>35.299999</td>\n",
              "    </tr>\n",
              "  </tbody>\n",
              "</table>\n",
              "<p>2381 rows × 7 columns</p>\n",
              "</div>\n",
              "      <button class=\"colab-df-convert\" onclick=\"convertToInteractive('df-f200f7ae-a1fe-410d-9fee-6cdef8bc8f26')\"\n",
              "              title=\"Convert this dataframe to an interactive table.\"\n",
              "              style=\"display:none;\">\n",
              "        \n",
              "  <svg xmlns=\"http://www.w3.org/2000/svg\" height=\"24px\"viewBox=\"0 0 24 24\"\n",
              "       width=\"24px\">\n",
              "    <path d=\"M0 0h24v24H0V0z\" fill=\"none\"/>\n",
              "    <path d=\"M18.56 5.44l.94 2.06.94-2.06 2.06-.94-2.06-.94-.94-2.06-.94 2.06-2.06.94zm-11 1L8.5 8.5l.94-2.06 2.06-.94-2.06-.94L8.5 2.5l-.94 2.06-2.06.94zm10 10l.94 2.06.94-2.06 2.06-.94-2.06-.94-.94-2.06-.94 2.06-2.06.94z\"/><path d=\"M17.41 7.96l-1.37-1.37c-.4-.4-.92-.59-1.43-.59-.52 0-1.04.2-1.43.59L10.3 9.45l-7.72 7.72c-.78.78-.78 2.05 0 2.83L4 21.41c.39.39.9.59 1.41.59.51 0 1.02-.2 1.41-.59l7.78-7.78 2.81-2.81c.8-.78.8-2.07 0-2.86zM5.41 20L4 18.59l7.72-7.72 1.47 1.35L5.41 20z\"/>\n",
              "  </svg>\n",
              "      </button>\n",
              "      \n",
              "  <style>\n",
              "    .colab-df-container {\n",
              "      display:flex;\n",
              "      flex-wrap:wrap;\n",
              "      gap: 12px;\n",
              "    }\n",
              "\n",
              "    .colab-df-convert {\n",
              "      background-color: #E8F0FE;\n",
              "      border: none;\n",
              "      border-radius: 50%;\n",
              "      cursor: pointer;\n",
              "      display: none;\n",
              "      fill: #1967D2;\n",
              "      height: 32px;\n",
              "      padding: 0 0 0 0;\n",
              "      width: 32px;\n",
              "    }\n",
              "\n",
              "    .colab-df-convert:hover {\n",
              "      background-color: #E2EBFA;\n",
              "      box-shadow: 0px 1px 2px rgba(60, 64, 67, 0.3), 0px 1px 3px 1px rgba(60, 64, 67, 0.15);\n",
              "      fill: #174EA6;\n",
              "    }\n",
              "\n",
              "    [theme=dark] .colab-df-convert {\n",
              "      background-color: #3B4455;\n",
              "      fill: #D2E3FC;\n",
              "    }\n",
              "\n",
              "    [theme=dark] .colab-df-convert:hover {\n",
              "      background-color: #434B5C;\n",
              "      box-shadow: 0px 1px 3px 1px rgba(0, 0, 0, 0.15);\n",
              "      filter: drop-shadow(0px 1px 2px rgba(0, 0, 0, 0.3));\n",
              "      fill: #FFFFFF;\n",
              "    }\n",
              "  </style>\n",
              "\n",
              "      <script>\n",
              "        const buttonEl =\n",
              "          document.querySelector('#df-f200f7ae-a1fe-410d-9fee-6cdef8bc8f26 button.colab-df-convert');\n",
              "        buttonEl.style.display =\n",
              "          google.colab.kernel.accessAllowed ? 'block' : 'none';\n",
              "\n",
              "        async function convertToInteractive(key) {\n",
              "          const element = document.querySelector('#df-f200f7ae-a1fe-410d-9fee-6cdef8bc8f26');\n",
              "          const dataTable =\n",
              "            await google.colab.kernel.invokeFunction('convertToInteractive',\n",
              "                                                     [key], {});\n",
              "          if (!dataTable) return;\n",
              "\n",
              "          const docLinkHtml = 'Like what you see? Visit the ' +\n",
              "            '<a target=\"_blank\" href=https://colab.research.google.com/notebooks/data_table.ipynb>data table notebook</a>'\n",
              "            + ' to learn more about interactive tables.';\n",
              "          element.innerHTML = '';\n",
              "          dataTable['output_type'] = 'display_data';\n",
              "          await google.colab.output.renderOutput(dataTable, element);\n",
              "          const docLink = document.createElement('div');\n",
              "          docLink.innerHTML = docLinkHtml;\n",
              "          element.appendChild(docLink);\n",
              "        }\n",
              "      </script>\n",
              "    </div>\n",
              "  </div>\n",
              "  "
            ]
          },
          "metadata": {},
          "execution_count": 37
        }
      ]
    },
    {
      "cell_type": "code",
      "source": [
        "def multiple_rolling(df,\n",
        "                     windows = [1,2],\n",
        "                     functions=[\"mean\",\"std\"],\n",
        "                     columns=None,\n",
        "                     ticker=\"ticker\"):\n",
        "  windows = [a for a in windows]\n",
        "  if not columns:\n",
        "    columns = df.columns.to_list()\n",
        "  rolling_dfs = (df.groupby(df[ticker])[columns].rolling(i)                                    # 1. Create window\n",
        "                  .agg(functions)                                # 1. Aggregate\n",
        "                  .rename({col: '{0}_{1:d}'.format(col, i)\n",
        "                                for col in columns}, axis=1).reset_index(drop=True)  # 2. Rename columns\n",
        "                for i in windows)                                # For each window\n",
        "  df_out = pd.concat((df, *rolling_dfs), axis=1)\n",
        "  da = df_out.iloc[:,len(df.columns):]\n",
        "  da = [col[0] + \"_\" + col[1] for col in  da.columns.to_list()]\n",
        "  df_out.columns = df.columns.to_list() + da \n",
        "  return  df_out  "
      ],
      "metadata": {
        "id": "aq72fQPwC6em"
      },
      "execution_count": 1,
      "outputs": []
    },
    {
      "cell_type": "code",
      "source": [],
      "metadata": {
        "id": "XfzID1HuFUu3"
      },
      "execution_count": null,
      "outputs": []
    }
  ]
}